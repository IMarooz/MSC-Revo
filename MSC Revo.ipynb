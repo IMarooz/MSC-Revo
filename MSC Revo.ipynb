{
 "cells": [
  {
   "cell_type": "markdown",
   "id": "d0cd6f45",
   "metadata": {},
   "source": [
    "# 1. Import Libraries"
   ]
  },
  {
   "cell_type": "code",
   "execution_count": 1,
   "id": "11091109",
   "metadata": {},
   "outputs": [],
   "source": [
    "import pandas as pd\n",
    "import numpy as np\n",
    "import matplotlib.pyplot as plt"
   ]
  },
  {
   "cell_type": "markdown",
   "id": "9b7c0f9c",
   "metadata": {},
   "source": [
    "# 2. Load Dataset"
   ]
  },
  {
   "cell_type": "code",
   "execution_count": 2,
   "id": "07a02bc5",
   "metadata": {},
   "outputs": [],
   "source": [
    "data = pd.read_csv(\"SLR.csv\")"
   ]
  },
  {
   "cell_type": "markdown",
   "id": "84237996",
   "metadata": {},
   "source": [
    "### 2.1 Show Dataset"
   ]
  },
  {
   "cell_type": "code",
   "execution_count": 3,
   "id": "d7588f71",
   "metadata": {},
   "outputs": [
    {
     "data": {
      "text/html": [
       "<div>\n",
       "<style scoped>\n",
       "    .dataframe tbody tr th:only-of-type {\n",
       "        vertical-align: middle;\n",
       "    }\n",
       "\n",
       "    .dataframe tbody tr th {\n",
       "        vertical-align: top;\n",
       "    }\n",
       "\n",
       "    .dataframe thead th {\n",
       "        text-align: right;\n",
       "    }\n",
       "</style>\n",
       "<table border=\"1\" class=\"dataframe\">\n",
       "  <thead>\n",
       "    <tr style=\"text-align: right;\">\n",
       "      <th></th>\n",
       "      <th>SAT</th>\n",
       "      <th>GPA</th>\n",
       "    </tr>\n",
       "  </thead>\n",
       "  <tbody>\n",
       "    <tr>\n",
       "      <th>0</th>\n",
       "      <td>1714</td>\n",
       "      <td>2.40</td>\n",
       "    </tr>\n",
       "    <tr>\n",
       "      <th>1</th>\n",
       "      <td>1664</td>\n",
       "      <td>2.52</td>\n",
       "    </tr>\n",
       "    <tr>\n",
       "      <th>2</th>\n",
       "      <td>1760</td>\n",
       "      <td>2.54</td>\n",
       "    </tr>\n",
       "    <tr>\n",
       "      <th>3</th>\n",
       "      <td>1685</td>\n",
       "      <td>2.74</td>\n",
       "    </tr>\n",
       "    <tr>\n",
       "      <th>4</th>\n",
       "      <td>1693</td>\n",
       "      <td>2.83</td>\n",
       "    </tr>\n",
       "    <tr>\n",
       "      <th>5</th>\n",
       "      <td>1670</td>\n",
       "      <td>2.91</td>\n",
       "    </tr>\n",
       "    <tr>\n",
       "      <th>6</th>\n",
       "      <td>1764</td>\n",
       "      <td>3.00</td>\n",
       "    </tr>\n",
       "    <tr>\n",
       "      <th>7</th>\n",
       "      <td>1764</td>\n",
       "      <td>3.00</td>\n",
       "    </tr>\n",
       "    <tr>\n",
       "      <th>8</th>\n",
       "      <td>1792</td>\n",
       "      <td>3.01</td>\n",
       "    </tr>\n",
       "    <tr>\n",
       "      <th>9</th>\n",
       "      <td>1850</td>\n",
       "      <td>3.01</td>\n",
       "    </tr>\n",
       "    <tr>\n",
       "      <th>10</th>\n",
       "      <td>1735</td>\n",
       "      <td>3.02</td>\n",
       "    </tr>\n",
       "    <tr>\n",
       "      <th>11</th>\n",
       "      <td>1775</td>\n",
       "      <td>3.07</td>\n",
       "    </tr>\n",
       "    <tr>\n",
       "      <th>12</th>\n",
       "      <td>1735</td>\n",
       "      <td>3.08</td>\n",
       "    </tr>\n",
       "    <tr>\n",
       "      <th>13</th>\n",
       "      <td>1712</td>\n",
       "      <td>3.08</td>\n",
       "    </tr>\n",
       "    <tr>\n",
       "      <th>14</th>\n",
       "      <td>1773</td>\n",
       "      <td>3.12</td>\n",
       "    </tr>\n",
       "    <tr>\n",
       "      <th>15</th>\n",
       "      <td>1872</td>\n",
       "      <td>3.17</td>\n",
       "    </tr>\n",
       "    <tr>\n",
       "      <th>16</th>\n",
       "      <td>1755</td>\n",
       "      <td>3.17</td>\n",
       "    </tr>\n",
       "    <tr>\n",
       "      <th>17</th>\n",
       "      <td>1674</td>\n",
       "      <td>3.17</td>\n",
       "    </tr>\n",
       "    <tr>\n",
       "      <th>18</th>\n",
       "      <td>1842</td>\n",
       "      <td>3.17</td>\n",
       "    </tr>\n",
       "    <tr>\n",
       "      <th>19</th>\n",
       "      <td>1786</td>\n",
       "      <td>3.19</td>\n",
       "    </tr>\n",
       "  </tbody>\n",
       "</table>\n",
       "</div>"
      ],
      "text/plain": [
       "     SAT   GPA\n",
       "0   1714  2.40\n",
       "1   1664  2.52\n",
       "2   1760  2.54\n",
       "3   1685  2.74\n",
       "4   1693  2.83\n",
       "5   1670  2.91\n",
       "6   1764  3.00\n",
       "7   1764  3.00\n",
       "8   1792  3.01\n",
       "9   1850  3.01\n",
       "10  1735  3.02\n",
       "11  1775  3.07\n",
       "12  1735  3.08\n",
       "13  1712  3.08\n",
       "14  1773  3.12\n",
       "15  1872  3.17\n",
       "16  1755  3.17\n",
       "17  1674  3.17\n",
       "18  1842  3.17\n",
       "19  1786  3.19"
      ]
     },
     "execution_count": 3,
     "metadata": {},
     "output_type": "execute_result"
    }
   ],
   "source": [
    "data.head(20)"
   ]
  },
  {
   "cell_type": "markdown",
   "id": "aa928f61",
   "metadata": {},
   "source": [
    "### 2.2 Describe Dataset"
   ]
  },
  {
   "cell_type": "code",
   "execution_count": 4,
   "id": "8cfebfb8",
   "metadata": {},
   "outputs": [
    {
     "data": {
      "text/html": [
       "<div>\n",
       "<style scoped>\n",
       "    .dataframe tbody tr th:only-of-type {\n",
       "        vertical-align: middle;\n",
       "    }\n",
       "\n",
       "    .dataframe tbody tr th {\n",
       "        vertical-align: top;\n",
       "    }\n",
       "\n",
       "    .dataframe thead th {\n",
       "        text-align: right;\n",
       "    }\n",
       "</style>\n",
       "<table border=\"1\" class=\"dataframe\">\n",
       "  <thead>\n",
       "    <tr style=\"text-align: right;\">\n",
       "      <th></th>\n",
       "      <th>SAT</th>\n",
       "      <th>GPA</th>\n",
       "    </tr>\n",
       "  </thead>\n",
       "  <tbody>\n",
       "    <tr>\n",
       "      <th>count</th>\n",
       "      <td>84.000000</td>\n",
       "      <td>84.000000</td>\n",
       "    </tr>\n",
       "    <tr>\n",
       "      <th>mean</th>\n",
       "      <td>1845.273810</td>\n",
       "      <td>3.330238</td>\n",
       "    </tr>\n",
       "    <tr>\n",
       "      <th>std</th>\n",
       "      <td>104.530661</td>\n",
       "      <td>0.271617</td>\n",
       "    </tr>\n",
       "    <tr>\n",
       "      <th>min</th>\n",
       "      <td>1634.000000</td>\n",
       "      <td>2.400000</td>\n",
       "    </tr>\n",
       "    <tr>\n",
       "      <th>25%</th>\n",
       "      <td>1772.000000</td>\n",
       "      <td>3.190000</td>\n",
       "    </tr>\n",
       "    <tr>\n",
       "      <th>50%</th>\n",
       "      <td>1846.000000</td>\n",
       "      <td>3.380000</td>\n",
       "    </tr>\n",
       "    <tr>\n",
       "      <th>75%</th>\n",
       "      <td>1934.000000</td>\n",
       "      <td>3.502500</td>\n",
       "    </tr>\n",
       "    <tr>\n",
       "      <th>max</th>\n",
       "      <td>2050.000000</td>\n",
       "      <td>3.810000</td>\n",
       "    </tr>\n",
       "  </tbody>\n",
       "</table>\n",
       "</div>"
      ],
      "text/plain": [
       "               SAT        GPA\n",
       "count    84.000000  84.000000\n",
       "mean   1845.273810   3.330238\n",
       "std     104.530661   0.271617\n",
       "min    1634.000000   2.400000\n",
       "25%    1772.000000   3.190000\n",
       "50%    1846.000000   3.380000\n",
       "75%    1934.000000   3.502500\n",
       "max    2050.000000   3.810000"
      ]
     },
     "execution_count": 4,
     "metadata": {},
     "output_type": "execute_result"
    }
   ],
   "source": [
    "data.describe()"
   ]
  },
  {
   "cell_type": "code",
   "execution_count": 5,
   "id": "baae8770",
   "metadata": {},
   "outputs": [
    {
     "data": {
      "image/png": "[encoded data removed]",
      "text/plain": [
       "<Figure size 640x480 with 1 Axes>"
      ]
     },
     "metadata": {},
     "output_type": "display_data"
    }
   ],
   "source": [
    "SAT = data[\"SAT\"]\n",
    "GPA = data[\"GPA\"]\n",
    "\n",
    "plt.scatter(SAT, GPA, color=\"g\")\n",
    "plt.xlabel(\"SAT\")\n",
    "plt.ylabel(\"GPA\")\n",
    "\n",
    "plt.show()"
   ]
  },
  {
   "cell_type": "code",
   "execution_count": 6,
   "id": "2a5d1334",
   "metadata": {},
   "outputs": [],
   "source": [
    "data.insert(0,\"Ones\",1)"
   ]
  },
  {
   "cell_type": "code",
   "execution_count": 7,
   "id": "fffe3ffc",
   "metadata": {},
   "outputs": [
    {
     "data": {
      "text/plain": [
       "(84, 3)"
      ]
     },
     "execution_count": 7,
     "metadata": {},
     "output_type": "execute_result"
    }
   ],
   "source": [
    "data.shape"
   ]
  },
  {
   "cell_type": "code",
   "execution_count": 8,
   "id": "e5a8a229",
   "metadata": {},
   "outputs": [],
   "source": [
    "cols = data.shape[1]\n",
    "Features = data.iloc[: , 0:cols-1]\n",
    "Results = data.iloc[: , cols-1:cols]"
   ]
  },
  {
   "cell_type": "code",
   "execution_count": 9,
   "id": "1599cc79",
   "metadata": {},
   "outputs": [
    {
     "data": {
      "text/html": [
       "<div>\n",
       "<style scoped>\n",
       "    .dataframe tbody tr th:only-of-type {\n",
       "        vertical-align: middle;\n",
       "    }\n",
       "\n",
       "    .dataframe tbody tr th {\n",
       "        vertical-align: top;\n",
       "    }\n",
       "\n",
       "    .dataframe thead th {\n",
       "        text-align: right;\n",
       "    }\n",
       "</style>\n",
       "<table border=\"1\" class=\"dataframe\">\n",
       "  <thead>\n",
       "    <tr style=\"text-align: right;\">\n",
       "      <th></th>\n",
       "      <th>Ones</th>\n",
       "      <th>SAT</th>\n",
       "    </tr>\n",
       "  </thead>\n",
       "  <tbody>\n",
       "    <tr>\n",
       "      <th>0</th>\n",
       "      <td>1</td>\n",
       "      <td>1714</td>\n",
       "    </tr>\n",
       "    <tr>\n",
       "      <th>1</th>\n",
       "      <td>1</td>\n",
       "      <td>1664</td>\n",
       "    </tr>\n",
       "    <tr>\n",
       "      <th>2</th>\n",
       "      <td>1</td>\n",
       "      <td>1760</td>\n",
       "    </tr>\n",
       "    <tr>\n",
       "      <th>3</th>\n",
       "      <td>1</td>\n",
       "      <td>1685</td>\n",
       "    </tr>\n",
       "    <tr>\n",
       "      <th>4</th>\n",
       "      <td>1</td>\n",
       "      <td>1693</td>\n",
       "    </tr>\n",
       "    <tr>\n",
       "      <th>5</th>\n",
       "      <td>1</td>\n",
       "      <td>1670</td>\n",
       "    </tr>\n",
       "    <tr>\n",
       "      <th>6</th>\n",
       "      <td>1</td>\n",
       "      <td>1764</td>\n",
       "    </tr>\n",
       "    <tr>\n",
       "      <th>7</th>\n",
       "      <td>1</td>\n",
       "      <td>1764</td>\n",
       "    </tr>\n",
       "    <tr>\n",
       "      <th>8</th>\n",
       "      <td>1</td>\n",
       "      <td>1792</td>\n",
       "    </tr>\n",
       "    <tr>\n",
       "      <th>9</th>\n",
       "      <td>1</td>\n",
       "      <td>1850</td>\n",
       "    </tr>\n",
       "  </tbody>\n",
       "</table>\n",
       "</div>"
      ],
      "text/plain": [
       "   Ones   SAT\n",
       "0     1  1714\n",
       "1     1  1664\n",
       "2     1  1760\n",
       "3     1  1685\n",
       "4     1  1693\n",
       "5     1  1670\n",
       "6     1  1764\n",
       "7     1  1764\n",
       "8     1  1792\n",
       "9     1  1850"
      ]
     },
     "execution_count": 9,
     "metadata": {},
     "output_type": "execute_result"
    }
   ],
   "source": [
    "Features.head(10)"
   ]
  },
  {
   "cell_type": "code",
   "execution_count": 10,
   "id": "da74d32b",
   "metadata": {},
   "outputs": [
    {
     "data": {
      "text/html": [
       "<div>\n",
       "<style scoped>\n",
       "    .dataframe tbody tr th:only-of-type {\n",
       "        vertical-align: middle;\n",
       "    }\n",
       "\n",
       "    .dataframe tbody tr th {\n",
       "        vertical-align: top;\n",
       "    }\n",
       "\n",
       "    .dataframe thead th {\n",
       "        text-align: right;\n",
       "    }\n",
       "</style>\n",
       "<table border=\"1\" class=\"dataframe\">\n",
       "  <thead>\n",
       "    <tr style=\"text-align: right;\">\n",
       "      <th></th>\n",
       "      <th>GPA</th>\n",
       "    </tr>\n",
       "  </thead>\n",
       "  <tbody>\n",
       "    <tr>\n",
       "      <th>0</th>\n",
       "      <td>2.40</td>\n",
       "    </tr>\n",
       "    <tr>\n",
       "      <th>1</th>\n",
       "      <td>2.52</td>\n",
       "    </tr>\n",
       "    <tr>\n",
       "      <th>2</th>\n",
       "      <td>2.54</td>\n",
       "    </tr>\n",
       "    <tr>\n",
       "      <th>3</th>\n",
       "      <td>2.74</td>\n",
       "    </tr>\n",
       "    <tr>\n",
       "      <th>4</th>\n",
       "      <td>2.83</td>\n",
       "    </tr>\n",
       "    <tr>\n",
       "      <th>5</th>\n",
       "      <td>2.91</td>\n",
       "    </tr>\n",
       "    <tr>\n",
       "      <th>6</th>\n",
       "      <td>3.00</td>\n",
       "    </tr>\n",
       "    <tr>\n",
       "      <th>7</th>\n",
       "      <td>3.00</td>\n",
       "    </tr>\n",
       "    <tr>\n",
       "      <th>8</th>\n",
       "      <td>3.01</td>\n",
       "    </tr>\n",
       "    <tr>\n",
       "      <th>9</th>\n",
       "      <td>3.01</td>\n",
       "    </tr>\n",
       "  </tbody>\n",
       "</table>\n",
       "</div>"
      ],
      "text/plain": [
       "    GPA\n",
       "0  2.40\n",
       "1  2.52\n",
       "2  2.54\n",
       "3  2.74\n",
       "4  2.83\n",
       "5  2.91\n",
       "6  3.00\n",
       "7  3.00\n",
       "8  3.01\n",
       "9  3.01"
      ]
     },
     "execution_count": 10,
     "metadata": {},
     "output_type": "execute_result"
    }
   ],
   "source": [
    "Results.head(10)"
   ]
  },
  {
   "cell_type": "code",
   "execution_count": 11,
   "id": "e2c0c951",
   "metadata": {},
   "outputs": [],
   "source": [
    "Features = np.matrix(Features.values)\n",
    "Results = np.matrix(Results.values)\n",
    "theta = np.matrix( np.array([0 , 0]) )"
   ]
  },
  {
   "cell_type": "code",
   "execution_count": 12,
   "id": "1572a9d0",
   "metadata": {},
   "outputs": [
    {
     "name": "stdout",
     "output_type": "stream",
     "text": [
      "(84, 2)\n",
      "(84, 1)\n",
      "(1, 2)\n"
     ]
    }
   ],
   "source": [
    "print(Features.shape)\n",
    "print(Results.shape)\n",
    "print(theta.shape)"
   ]
  },
  {
   "cell_type": "markdown",
   "id": "f3b9ff01",
   "metadata": {},
   "source": [
    "# 3. Cost Fuction"
   ]
  },
  {
   "cell_type": "code",
   "execution_count": 13,
   "id": "6639d805",
   "metadata": {},
   "outputs": [],
   "source": [
    "def CalcCost(x,y,t):\n",
    "    z = np.power( ((x * t.T) - y),2)\n",
    "    return np.sum(z) / (2 * len(x))"
   ]
  },
  {
   "cell_type": "markdown",
   "id": "9a5770fd",
   "metadata": {},
   "source": [
    "### 3.1 Testing Cost Function "
   ]
  },
  {
   "cell_type": "code",
   "execution_count": 14,
   "id": "41dd0a63",
   "metadata": {},
   "outputs": [
    {
     "name": "stdout",
     "output_type": "stream",
     "text": [
      "5.581691666666667\n"
     ]
    }
   ],
   "source": [
    "print( CalcCost(Features , Results , theta) )"
   ]
  },
  {
   "cell_type": "markdown",
   "id": "621b64de",
   "metadata": {},
   "source": [
    "# 4.Gradiant Descent"
   ]
  },
  {
   "cell_type": "code",
   "execution_count": 15,
   "id": "2f3374b0",
   "metadata": {},
   "outputs": [],
   "source": [
    "def GradiantDescent(x, y, theta, alpha, iters):\n",
    "    temp = np.matrix( np.zeros(theta.shape) )\n",
    "    parameters = int( theta.ravel().shape[1] )\n",
    "    cost = np.zeros(iters)\n",
    "    \n",
    "    for i in range(iters):\n",
    "        error = (x * theta.T) - y\n",
    "        \n",
    "        for ii in range(parameters):\n",
    "            term = np.multiply(error, x[ : , ii])\n",
    "            temp[0,ii] = theta[0,ii] - ( (alpha / len(x)) * np.sum(term))\n",
    "            \n",
    "        theta = temp\n",
    "        cost[i] = CalcCost(x, y, theta)\n",
    "        \n",
    "    return theta,cost"
   ]
  },
  {
   "cell_type": "code",
   "execution_count": 32,
   "id": "d131588a",
   "metadata": {
    "scrolled": true
   },
   "outputs": [
    {
     "name": "stdout",
     "output_type": "stream",
     "text": [
      "g = [[9.76197377e-07 1.80384464e-03]]\n",
      "cost = [2.43206581 1.06666347 0.47474442 0.21814009 0.10689889 0.05867443\n",
      " 0.03776852 0.02870555 0.02477664 0.02307341 0.02233503 0.02201494\n",
      " 0.02187617 0.02181602 0.02178994 0.02177863 0.02177373 0.02177161\n",
      " 0.02177069 0.02177029]\n",
      "CalcCost = 0.021770288812162756\n"
     ]
    }
   ],
   "source": [
    "alpha = 0.0000001\n",
    "iters = 20\n",
    "\n",
    "g,cost = GradiantDescent(Features, Results, theta, alpha, iters)\n",
    "\n",
    "print(\"g =\", g)\n",
    "print(\"cost =\", cost[0:20])\n",
    "print(\"CalcCost =\", CalcCost(Features, Results, g))"
   ]
  },
  {
   "cell_type": "markdown",
   "id": "94c4b1d7",
   "metadata": {},
   "source": [
    "# 5. Best Fit Line"
   ]
  },
  {
   "cell_type": "code",
   "execution_count": 33,
   "id": "bfbe672b",
   "metadata": {
    "scrolled": true
   },
   "outputs": [
    {
     "name": "stdout",
     "output_type": "stream",
     "text": [
      "[2.94748313 2.95506292 2.96264271 2.9702225  2.97780229 2.98538208\n",
      " 2.99296188 3.00054167 3.00812146 3.01570125 3.02328104 3.03086083\n",
      " 3.03844063 3.04602042 3.05360021 3.06118    3.06875979 3.07633958\n",
      " 3.08391938 3.09149917 3.09907896 3.10665875 3.11423854 3.12181833\n",
      " 3.12939812 3.13697792 3.14455771 3.1521375  3.15971729 3.16729708\n",
      " 3.17487687 3.18245667 3.19003646 3.19761625 3.20519604 3.21277583\n",
      " 3.22035562 3.22793542 3.23551521 3.243095   3.25067479 3.25825458\n",
      " 3.26583437 3.27341417 3.28099396 3.28857375 3.29615354 3.30373333\n",
      " 3.31131312 3.31889292 3.32647271 3.3340525  3.34163229 3.34921208\n",
      " 3.35679187 3.36437167 3.37195146 3.37953125 3.38711104 3.39469083\n",
      " 3.40227062 3.40985042 3.41743021 3.42501    3.43258979 3.44016958\n",
      " 3.44774937 3.45532917 3.46290896 3.47048875 3.47806854 3.48564833\n",
      " 3.49322812 3.50080792 3.50838771 3.5159675  3.52354729 3.53112708\n",
      " 3.53870687 3.54628667 3.55386646 3.56144625 3.56902604 3.57660583\n",
      " 3.58418562 3.59176541 3.59934521 3.606925   3.61450479 3.62208458\n",
      " 3.62966437 3.63724416 3.64482396 3.65240375 3.65998354 3.66756333\n",
      " 3.67514312 3.68272291 3.69030271 3.6978825 ]\n"
     ]
    }
   ],
   "source": [
    "x = np.linspace( data[\"SAT\"].min() , data[\"SAT\"].max() , 100)\n",
    "f = g[0 , 0] + ( g[ 0 , 1] * x)\n",
    "print(f)"
   ]
  },
  {
   "cell_type": "code",
   "execution_count": 34,
   "id": "eb30ab03",
   "metadata": {},
   "outputs": [
    {
     "data": {
      "image/png": "[encoded data removed]",
      "text/plain": [
       "<Figure size 640x480 with 1 Axes>"
      ]
     },
     "metadata": {},
     "output_type": "display_data"
    }
   ],
   "source": [
    "plt.plot(x , f , \"r\", label=\"Prediction\")\n",
    "plt.scatter(data[\"SAT\"], data[\"GPA\"], label=\"Training Data\")\n",
    "plt.legend(loc=\"upper left\")\n",
    "plt.xlabel(\"SAT\")\n",
    "plt.ylabel(\"GPA\")\n",
    "plt.title(\"SAT vs. GPA\")\n",
    "plt.show()"
   ]
  },
  {
   "cell_type": "code",
   "execution_count": 35,
   "id": "8f1243ff",
   "metadata": {},
   "outputs": [
    {
     "data": {
      "image/png": "[encoded data removed]",
      "text/plain": [
       "<Figure size 500x500 with 1 Axes>"
      ]
     },
     "metadata": {},
     "output_type": "display_data"
    }
   ],
   "source": [
    "plt.subplots(figsize=(5,5))\n",
    "plt.plot(np.arange(iters), cost, 'r')\n",
    "plt.xlabel('Iterations')\n",
    "plt.ylabel('Cost')\n",
    "plt.title('Error vs. Training Epoch')\n",
    "\n",
    "plt.show()"
   ]
  }
 ],
 "metadata": {
  "kernelspec": {
   "display_name": "Python 3 (ipykernel)",
   "language": "python",
   "name": "python3"
  },
  "language_info": {
   "codemirror_mode": {
    "name": "ipython",
    "version": 3
   },
   "file_extension": ".py",
   "mimetype": "text/x-python",
   "name": "python",
   "nbconvert_exporter": "python",
   "pygments_lexer": "ipython3",
   "version": "3.11.5"
  }
 },
 "nbformat": 4,
 "nbformat_minor": 5
}
